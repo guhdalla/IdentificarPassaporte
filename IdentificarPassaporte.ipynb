{
  "cells": [
    {
      "cell_type": "markdown",
      "metadata": {
        "id": "view-in-github",
        "colab_type": "text"
      },
      "source": [
        "<a href=\"https://colab.research.google.com/github/guhdalla/IdentificarPassaporte/blob/main/IdentificarPassaporte.ipynb\" target=\"_parent\"><img src=\"https://colab.research.google.com/assets/colab-badge.svg\" alt=\"Open In Colab\"/></a>"
      ]
    },
    {
      "cell_type": "code",
      "execution_count": 1,
      "metadata": {
        "id": "1hEbLY_DK8Lj",
        "colab": {
          "base_uri": "https://localhost:8080/"
        },
        "outputId": "3e3c637f-1ec3-4f9c-eaaa-b8922297fa04"
      },
      "outputs": [
        {
          "output_type": "stream",
          "name": "stdout",
          "text": [
            "\u001b[?25l\r\u001b[K     |▍                               | 10 kB 23.8 MB/s eta 0:00:01\r\u001b[K     |▉                               | 20 kB 13.9 MB/s eta 0:00:01\r\u001b[K     |█▎                              | 30 kB 10.5 MB/s eta 0:00:01\r\u001b[K     |█▊                              | 40 kB 9.0 MB/s eta 0:00:01\r\u001b[K     |██▏                             | 51 kB 4.6 MB/s eta 0:00:01\r\u001b[K     |██▋                             | 61 kB 5.4 MB/s eta 0:00:01\r\u001b[K     |███                             | 71 kB 5.5 MB/s eta 0:00:01\r\u001b[K     |███▌                            | 81 kB 4.2 MB/s eta 0:00:01\r\u001b[K     |████                            | 92 kB 4.7 MB/s eta 0:00:01\r\u001b[K     |████▍                           | 102 kB 5.1 MB/s eta 0:00:01\r\u001b[K     |████▉                           | 112 kB 5.1 MB/s eta 0:00:01\r\u001b[K     |█████▎                          | 122 kB 5.1 MB/s eta 0:00:01\r\u001b[K     |█████▊                          | 133 kB 5.1 MB/s eta 0:00:01\r\u001b[K     |██████▏                         | 143 kB 5.1 MB/s eta 0:00:01\r\u001b[K     |██████▋                         | 153 kB 5.1 MB/s eta 0:00:01\r\u001b[K     |███████                         | 163 kB 5.1 MB/s eta 0:00:01\r\u001b[K     |███████▌                        | 174 kB 5.1 MB/s eta 0:00:01\r\u001b[K     |████████                        | 184 kB 5.1 MB/s eta 0:00:01\r\u001b[K     |████████▍                       | 194 kB 5.1 MB/s eta 0:00:01\r\u001b[K     |████████▉                       | 204 kB 5.1 MB/s eta 0:00:01\r\u001b[K     |█████████▎                      | 215 kB 5.1 MB/s eta 0:00:01\r\u001b[K     |█████████▊                      | 225 kB 5.1 MB/s eta 0:00:01\r\u001b[K     |██████████▏                     | 235 kB 5.1 MB/s eta 0:00:01\r\u001b[K     |██████████▌                     | 245 kB 5.1 MB/s eta 0:00:01\r\u001b[K     |███████████                     | 256 kB 5.1 MB/s eta 0:00:01\r\u001b[K     |███████████▍                    | 266 kB 5.1 MB/s eta 0:00:01\r\u001b[K     |███████████▉                    | 276 kB 5.1 MB/s eta 0:00:01\r\u001b[K     |████████████▎                   | 286 kB 5.1 MB/s eta 0:00:01\r\u001b[K     |████████████▊                   | 296 kB 5.1 MB/s eta 0:00:01\r\u001b[K     |█████████████▏                  | 307 kB 5.1 MB/s eta 0:00:01\r\u001b[K     |█████████████▋                  | 317 kB 5.1 MB/s eta 0:00:01\r\u001b[K     |██████████████                  | 327 kB 5.1 MB/s eta 0:00:01\r\u001b[K     |██████████████▌                 | 337 kB 5.1 MB/s eta 0:00:01\r\u001b[K     |███████████████                 | 348 kB 5.1 MB/s eta 0:00:01\r\u001b[K     |███████████████▍                | 358 kB 5.1 MB/s eta 0:00:01\r\u001b[K     |███████████████▉                | 368 kB 5.1 MB/s eta 0:00:01\r\u001b[K     |████████████████▎               | 378 kB 5.1 MB/s eta 0:00:01\r\u001b[K     |████████████████▊               | 389 kB 5.1 MB/s eta 0:00:01\r\u001b[K     |█████████████████▏              | 399 kB 5.1 MB/s eta 0:00:01\r\u001b[K     |█████████████████▋              | 409 kB 5.1 MB/s eta 0:00:01\r\u001b[K     |██████████████████              | 419 kB 5.1 MB/s eta 0:00:01\r\u001b[K     |██████████████████▌             | 430 kB 5.1 MB/s eta 0:00:01\r\u001b[K     |███████████████████             | 440 kB 5.1 MB/s eta 0:00:01\r\u001b[K     |███████████████████▍            | 450 kB 5.1 MB/s eta 0:00:01\r\u001b[K     |███████████████████▉            | 460 kB 5.1 MB/s eta 0:00:01\r\u001b[K     |████████████████████▎           | 471 kB 5.1 MB/s eta 0:00:01\r\u001b[K     |████████████████████▋           | 481 kB 5.1 MB/s eta 0:00:01\r\u001b[K     |█████████████████████           | 491 kB 5.1 MB/s eta 0:00:01\r\u001b[K     |█████████████████████▌          | 501 kB 5.1 MB/s eta 0:00:01\r\u001b[K     |██████████████████████          | 512 kB 5.1 MB/s eta 0:00:01\r\u001b[K     |██████████████████████▍         | 522 kB 5.1 MB/s eta 0:00:01\r\u001b[K     |██████████████████████▉         | 532 kB 5.1 MB/s eta 0:00:01\r\u001b[K     |███████████████████████▎        | 542 kB 5.1 MB/s eta 0:00:01\r\u001b[K     |███████████████████████▊        | 552 kB 5.1 MB/s eta 0:00:01\r\u001b[K     |████████████████████████▏       | 563 kB 5.1 MB/s eta 0:00:01\r\u001b[K     |████████████████████████▋       | 573 kB 5.1 MB/s eta 0:00:01\r\u001b[K     |█████████████████████████       | 583 kB 5.1 MB/s eta 0:00:01\r\u001b[K     |█████████████████████████▌      | 593 kB 5.1 MB/s eta 0:00:01\r\u001b[K     |██████████████████████████      | 604 kB 5.1 MB/s eta 0:00:01\r\u001b[K     |██████████████████████████▍     | 614 kB 5.1 MB/s eta 0:00:01\r\u001b[K     |██████████████████████████▉     | 624 kB 5.1 MB/s eta 0:00:01\r\u001b[K     |███████████████████████████▎    | 634 kB 5.1 MB/s eta 0:00:01\r\u001b[K     |███████████████████████████▊    | 645 kB 5.1 MB/s eta 0:00:01\r\u001b[K     |████████████████████████████▏   | 655 kB 5.1 MB/s eta 0:00:01\r\u001b[K     |████████████████████████████▋   | 665 kB 5.1 MB/s eta 0:00:01\r\u001b[K     |█████████████████████████████   | 675 kB 5.1 MB/s eta 0:00:01\r\u001b[K     |█████████████████████████████▌  | 686 kB 5.1 MB/s eta 0:00:01\r\u001b[K     |██████████████████████████████  | 696 kB 5.1 MB/s eta 0:00:01\r\u001b[K     |██████████████████████████████▍ | 706 kB 5.1 MB/s eta 0:00:01\r\u001b[K     |██████████████████████████████▊ | 716 kB 5.1 MB/s eta 0:00:01\r\u001b[K     |███████████████████████████████▏| 727 kB 5.1 MB/s eta 0:00:01\r\u001b[K     |███████████████████████████████▋| 737 kB 5.1 MB/s eta 0:00:01\r\u001b[K     |████████████████████████████████| 745 kB 5.1 MB/s \n",
            "\u001b[?25h  Building wheel for pyngrok (setup.py) ... \u001b[?25l\u001b[?25hdone\n"
          ]
        }
      ],
      "source": [
        "!pip install -q pyngrok"
      ]
    },
    {
      "cell_type": "code",
      "execution_count": 2,
      "metadata": {
        "id": "oHQ35WouLBVg",
        "colab": {
          "base_uri": "https://localhost:8080/"
        },
        "outputId": "183f1a20-7afd-4007-8805-05d7611b6279"
      },
      "outputs": [
        {
          "output_type": "stream",
          "name": "stdout",
          "text": [
            "\u001b[K     |████████████████████████████████| 10.1 MB 4.9 MB/s \n",
            "\u001b[K     |████████████████████████████████| 76 kB 5.7 MB/s \n",
            "\u001b[K     |████████████████████████████████| 164 kB 53.7 MB/s \n",
            "\u001b[K     |████████████████████████████████| 181 kB 50.6 MB/s \n",
            "\u001b[K     |████████████████████████████████| 111 kB 53.7 MB/s \n",
            "\u001b[K     |████████████████████████████████| 4.3 MB 36.7 MB/s \n",
            "\u001b[K     |████████████████████████████████| 63 kB 1.8 MB/s \n",
            "\u001b[K     |████████████████████████████████| 131 kB 57.0 MB/s \n",
            "\u001b[K     |████████████████████████████████| 130 kB 68.4 MB/s \n",
            "\u001b[K     |████████████████████████████████| 793 kB 28.6 MB/s \n",
            "\u001b[K     |████████████████████████████████| 428 kB 47.8 MB/s \n",
            "\u001b[K     |████████████████████████████████| 381 kB 48.2 MB/s \n",
            "\u001b[?25h  Building wheel for blinker (setup.py) ... \u001b[?25l\u001b[?25hdone\n",
            "  Building wheel for validators (setup.py) ... \u001b[?25l\u001b[?25hdone\n",
            "\u001b[31mERROR: pip's dependency resolver does not currently take into account all the packages that are installed. This behaviour is the source of the following dependency conflicts.\n",
            "jupyter-console 5.2.0 requires prompt-toolkit<2.0.0,>=1.0.0, but you have prompt-toolkit 3.0.29 which is incompatible.\n",
            "google-colab 1.0.0 requires ipykernel~=4.10, but you have ipykernel 6.13.0 which is incompatible.\n",
            "google-colab 1.0.0 requires ipython~=5.5.0, but you have ipython 7.33.0 which is incompatible.\n",
            "google-colab 1.0.0 requires tornado~=5.1.0; python_version >= \"3.0\", but you have tornado 6.1 which is incompatible.\u001b[0m\n"
          ]
        }
      ],
      "source": [
        "!pip install -q streamlit"
      ]
    },
    {
      "cell_type": "code",
      "execution_count": 3,
      "metadata": {
        "id": "SBK3vxRELC0p",
        "colab": {
          "base_uri": "https://localhost:8080/"
        },
        "outputId": "94b02314-0ebe-42a5-b1bf-a0cfede52393"
      },
      "outputs": [
        {
          "output_type": "stream",
          "name": "stdout",
          "text": [
            "\u001b[K     |████████████████████████████████| 3.6 MB 5.1 MB/s \n",
            "\u001b[?25h"
          ]
        }
      ],
      "source": [
        "!pip install -q streamlit_ace"
      ]
    },
    {
      "cell_type": "code",
      "execution_count": 4,
      "metadata": {
        "id": "1NIZlB3GLENk"
      },
      "outputs": [],
      "source": [
        "!streamlit run app.py &>/dev/null&"
      ]
    },
    {
      "cell_type": "code",
      "source": [
        "!pip install fuzzywuzzy[speedup]"
      ],
      "metadata": {
        "id": "2eQB3UjUI036",
        "colab": {
          "base_uri": "https://localhost:8080/"
        },
        "outputId": "11120a14-41c4-4a38-9dad-503971a42f03"
      },
      "execution_count": 5,
      "outputs": [
        {
          "output_type": "stream",
          "name": "stdout",
          "text": [
            "Collecting fuzzywuzzy[speedup]\n",
            "  Downloading fuzzywuzzy-0.18.0-py2.py3-none-any.whl (18 kB)\n",
            "Collecting python-levenshtein>=0.12\n",
            "  Downloading python-Levenshtein-0.12.2.tar.gz (50 kB)\n",
            "\u001b[?25l\r\u001b[K     |██████▌                         | 10 kB 19.5 MB/s eta 0:00:01\r\u001b[K     |█████████████                   | 20 kB 22.2 MB/s eta 0:00:01\r\u001b[K     |███████████████████▌            | 30 kB 25.8 MB/s eta 0:00:01\r\u001b[K     |██████████████████████████      | 40 kB 29.7 MB/s eta 0:00:01\r\u001b[K     |████████████████████████████████| 50 kB 6.3 MB/s \n",
            "\u001b[?25hRequirement already satisfied: setuptools in /usr/local/lib/python3.7/dist-packages (from python-levenshtein>=0.12->fuzzywuzzy[speedup]) (57.4.0)\n",
            "Building wheels for collected packages: python-levenshtein\n",
            "  Building wheel for python-levenshtein (setup.py) ... \u001b[?25l\u001b[?25hdone\n",
            "  Created wheel for python-levenshtein: filename=python_Levenshtein-0.12.2-cp37-cp37m-linux_x86_64.whl size=149861 sha256=2e9ac54328541c9a5a34629ca95c5c1e9dafc83a6f81c9f5cb6e3f6bf385387d\n",
            "  Stored in directory: /root/.cache/pip/wheels/05/5f/ca/7c4367734892581bb5ff896f15027a932c551080b2abd3e00d\n",
            "Successfully built python-levenshtein\n",
            "Installing collected packages: python-levenshtein, fuzzywuzzy\n",
            "Successfully installed fuzzywuzzy-0.18.0 python-levenshtein-0.12.2\n"
          ]
        }
      ]
    },
    {
      "cell_type": "code",
      "execution_count": 6,
      "metadata": {
        "id": "8Js9aaHjLHTA"
      },
      "outputs": [],
      "source": [
        "from pyngrok import ngrok"
      ]
    },
    {
      "cell_type": "code",
      "execution_count": 19,
      "metadata": {
        "colab": {
          "base_uri": "https://localhost:8080/"
        },
        "id": "Vrnyy1AZUJfl",
        "outputId": "cbf7a76b-56c1-445c-915e-ba630762aace"
      },
      "outputs": [
        {
          "output_type": "stream",
          "name": "stdout",
          "text": [
            "Overwriting app.py\n"
          ]
        }
      ],
      "source": [
        "%%writefile app.py\n",
        "\n",
        "from fuzzywuzzy import process\n",
        "import streamlit as st\n",
        "import re\n",
        "import json\n",
        "import requests\n",
        "\n",
        "def main():\n",
        "\n",
        "  def getPaises():\n",
        "    response = requests.get('https://guhdalla.github.io/paises.json')\n",
        "    return response.json()['PAISES']\n",
        "      \n",
        "  def getUrlByPais(paisField):\n",
        "    paises = getPaises();\n",
        "    for pais in paises:\n",
        "      if pais[\"PAIS\"].upper() == paisField.upper():\n",
        "        return pais[\"URL\"]\n",
        "\n",
        "  def containPassaporteInUrl(url, sigla, passaporte):\n",
        "    response = requests.get(url)\n",
        "    json = response.json()[sigla.lower()]\n",
        "    print(sigla.lower())\n",
        "    for i in json:\n",
        "      if int(i[sigla.lower()]) == int(passaporte):\n",
        "        return True\n",
        "    return False\n",
        "\n",
        "  def containNameInInterpol(nome):\n",
        "    response = requests.get(\"https://cspinheiro.github.io/interpol.json\")\n",
        "    json = response.json()[\"interpol\"]\n",
        "    nomes = []\n",
        "    for i in json:\n",
        "      nomes.append(i[\"interpol\"])\n",
        "\n",
        "    result = process.extract(nome, nomes)\n",
        "    print(result)\n",
        "    for text in result: \n",
        "        if text[1] > 86:\n",
        "          return True\n",
        "        else:\n",
        "          return False\n",
        "    \n",
        "\n",
        "  def service(passaporte, nome):\n",
        "    pais = re.sub(\"[0-9]{9}\", \"\",passaporte)\n",
        "    passaporte = re.sub(\"[a-zA-Z]{3}\", \"\",passaporte)\n",
        "\n",
        "    url = getUrlByPais(pais);\n",
        "    if url is None:\n",
        "      return st.error(\"Pais inexistente!\")\n",
        "    isPassaporte = containPassaporteInUrl(url, pais, passaporte)\n",
        "    isWanted = containNameInInterpol(nome)\n",
        "    print(\"Pass\", isPassaporte)\n",
        "    print(\"Wanted\", isWanted)\n",
        "    if not isPassaporte and not isWanted:\n",
        "      st.success(\"Permitido.\")\n",
        "    else:\n",
        "      if isWanted:\n",
        "        st.error(\"Pessoa sujeito a investigação!\")\n",
        "      else:\n",
        "        st.error(\"Nao permitido!\")\n",
        "\n",
        "\n",
        "  def verifyNome(nome):\n",
        "    if nome is \"\":\n",
        "      return False\n",
        "    match = re.search(\"[0-9]\", nome)\n",
        "    if not match:\n",
        "      return True\n",
        "    else:\n",
        "      return False\n",
        "\n",
        "  def verifyPassaporte(passaporte):\n",
        "    match = re.search(\"([a-zA-Z]{3})([0-9]{9})\", passaporte)\n",
        "    if match:\n",
        "      return True\n",
        "    else:\n",
        "      return False\n",
        "\n",
        "  with st.form(\"form_migracao\"):\n",
        "    st.write(\"MIGRACAO\")\n",
        "    passaporte = st.text_input('Passaporte')\n",
        "    nome = st.text_input('Nome')\n",
        "\n",
        "    submitted = st.form_submit_button(\"VERIFICAR\")\n",
        "    if submitted:\n",
        "      if verifyPassaporte(passaporte) and verifyNome(nome):\n",
        "        service(passaporte, nome)\n",
        "      else:\n",
        "        st.write(\"Passaporte ou nome foram digitados incorretamente! Tente Novamente.\")\n",
        "\n",
        "if __name__=='__main__': \n",
        "    main()  "
      ]
    },
    {
      "cell_type": "code",
      "execution_count": 20,
      "metadata": {
        "colab": {
          "base_uri": "https://localhost:8080/"
        },
        "id": "uh5Fx874LLi8",
        "outputId": "e38a4cff-c3c9-49e2-b22b-25a0fdebb327"
      },
      "outputs": [
        {
          "output_type": "stream",
          "name": "stdout",
          "text": [
            "2022-05-04 22:47:14.059 INFO    numexpr.utils: NumExpr defaulting to 2 threads.\n",
            "\u001b[K\u001b[?25hnpx: installed 22 in 2.416s\n",
            "your url is: https://soft-aliens-flash-35-185-63-121.loca.lt\n",
            "\u001b[0m\n",
            "\u001b[34m\u001b[1m  You can now view your Streamlit app in your browser.\u001b[0m\n",
            "\u001b[0m\n",
            "\u001b[34m  Network URL: \u001b[0m\u001b[1mhttp://172.28.0.2:8501\u001b[0m\n",
            "\u001b[34m  External URL: \u001b[0m\u001b[1mhttp://35.185.63.121:8501\u001b[0m\n",
            "\u001b[0m\n",
            "fra\n",
            "[('Luzia dos Anjos ', 56), ('Priscila dos Santos Pereira', 54), ('Isabelle dos Anjos Pinheiro', 54), ('Fabiana Oliveira Ribeiro', 51), ('Luzivan de Oliveira ', 45)]\n",
            "Pass True\n",
            "Wanted False\n",
            "ind\n",
            "[('Fernando de Villas Boas ', 100), ('Bruna de Villas Boas ', 84), ('Pedro de Villas Boas ', 84), ('Marianna de Villas Boas ', 78), ('Maurício de Villas Boas ', 76)]\n",
            "Pass False\n",
            "Wanted True\n",
            "irq\n",
            "[('Fábio Oliveira ', 86), ('Larissa Oliveira ', 67), ('Isabelle de Oliveira ', 65), ('Camila de Oliveira ', 65), ('Pedro de Oliveira ', 65)]\n",
            "Pass False\n",
            "Wanted False\n",
            "fra\n",
            "[('Lucas Silva Leão', 100), ('Luana Silva Leão', 87), ('Pietra da Silva Rebouças', 86), ('Patrícia da Silva Ribeiro', 86), ('Maurício da Silva Ribeiro', 86)]\n",
            "Pass True\n",
            "Wanted True\n",
            "aus\n",
            "[('Luzivan de Oliveira ', 60), ('João de Oliveira Ribeiro', 48), ('Danielly Villas Boas ', 48), ('Bruno de Oliveira Ribeiro', 40), ('Luzia dos Anjos ', 40)]\n",
            "Pass False\n",
            "Wanted False\n",
            "arg\n",
            "[('Isabelle dos Anjos Pinheiro', 95), ('Isabelle dos Santos Pereira', 87), ('Luzia dos Anjos ', 86), ('Isabelle da Silva ', 86), ('Pedro dos Anjos ', 86)]\n",
            "Pass False\n",
            "Wanted True\n",
            "hun\n",
            "[('Larissa Oliveira Ribeiro', 100), ('Larissa Oliveira ', 90), ('Fábio Oliveira ', 86), ('Bárbara Oliveira Ribeiro', 85), ('Fabiana Oliveira Ribeiro', 83)]\n",
            "Pass False\n",
            "Wanted True\n",
            "hun\n",
            "[('Larissa Oliveira Ribeiro', 100), ('Larissa Oliveira ', 90), ('Fábio Oliveira ', 86), ('Bárbara Oliveira Ribeiro', 85), ('Fabiana Oliveira Ribeiro', 83)]\n",
            "Pass False\n",
            "Wanted True\n",
            "arg\n",
            "[('Luana Silva Leão', 85), ('Lucas Silva Leão', 85), ('Ricardo da Silva Leão', 79), ('Silvana da Silva Leão', 79), ('Pedro da Silva ', 69)]\n",
            "Pass False\n",
            "Wanted False\n",
            "fra\n",
            "[('Luzia dos Anjos ', 56), ('Priscila dos Santos Pereira', 54), ('Isabelle dos Anjos Pinheiro', 54), ('Fabiana Oliveira Ribeiro', 51), ('Luzivan de Oliveira ', 45)]\n",
            "Pass True\n",
            "Wanted False\n",
            "ago\n",
            "[('Michael de Oliveira ', 90), ('Luzivan de Oliveira ', 86), ('Camila de Oliveira ', 86), ('Pedro de Oliveira ', 86), ('Fábio Oliveira ', 86)]\n",
            "Pass False\n",
            "Wanted True\n",
            "ago\n",
            "[('Fernando dos Santos Pereira', 47), ('Pedro dos Anjos ', 46), ('Pedro da Silva ', 40), ('Pietra da Silva Rebouças', 40), ('Fernanda dos Anjos Pinheiro', 40)]\n",
            "Pass False\n",
            "Wanted False\n",
            "ita\n",
            "[('Priscila dos Santos Pereira', 49), ('Fernando dos Santos Pereira', 49), ('Maurício dos Santos Pereira', 49), ('Isabelle dos Santos Pereira', 49), ('Marianna dos Santos Pereira', 49)]\n",
            "Pass False\n",
            "Wanted False\n",
            "bel\n",
            "[('Patrícia da Silva Ribeiro', 55), ('Maria Clara Santos Pereira', 55), ('Maurício da Silva Ribeiro', 53), ('Priscila dos Santos Pereira', 51), ('Fernando dos Santos Pereira', 51)]\n",
            "Pass True\n",
            "Wanted False\n",
            "irl\n",
            "[('Bruno de Oliveira Ribeiro', 41), ('Fernando de Oliveira Ribeiro', 41), ('Marlene de Oliveira Ribeiro', 41), ('Maurício de Villas Boas ', 41), ('João de Oliveira Ribeiro', 41)]\n",
            "Pass True\n",
            "Wanted False\n",
            "\u001b[34m  Stopping...\u001b[0m\n",
            "^C\n"
          ]
        }
      ],
      "source": [
        "!streamlit run app.py & npx localtunnel --port 8501"
      ]
    }
  ],
  "metadata": {
    "colab": {
      "collapsed_sections": [],
      "name": "IdentificarPassaporte.ipynb",
      "provenance": [],
      "authorship_tag": "ABX9TyOM6Mfpx5EMjbRNoZslUw9V",
      "include_colab_link": true
    },
    "kernelspec": {
      "display_name": "Python 3",
      "name": "python3"
    },
    "language_info": {
      "name": "python"
    }
  },
  "nbformat": 4,
  "nbformat_minor": 0
}