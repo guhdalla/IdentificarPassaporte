{
  "cells": [
    {
      "cell_type": "markdown",
      "metadata": {
        "id": "view-in-github",
        "colab_type": "text"
      },
      "source": [
        "<a href=\"https://colab.research.google.com/github/guhdalla/IdentificarPassaporte/blob/main/IdentificarPassaporte.ipynb\" target=\"_parent\"><img src=\"https://colab.research.google.com/assets/colab-badge.svg\" alt=\"Open In Colab\"/></a>"
      ]
    },
    {
      "cell_type": "code",
      "execution_count": null,
      "metadata": {
        "id": "1hEbLY_DK8Lj"
      },
      "outputs": [],
      "source": [
        "!pip install -q pyngrok"
      ]
    },
    {
      "cell_type": "code",
      "execution_count": null,
      "metadata": {
        "id": "oHQ35WouLBVg"
      },
      "outputs": [],
      "source": [
        "!pip install -q streamlit"
      ]
    },
    {
      "cell_type": "code",
      "execution_count": null,
      "metadata": {
        "id": "SBK3vxRELC0p"
      },
      "outputs": [],
      "source": [
        "!pip install -q streamlit_ace"
      ]
    },
    {
      "cell_type": "code",
      "execution_count": null,
      "metadata": {
        "id": "1NIZlB3GLENk"
      },
      "outputs": [],
      "source": [
        "!streamlit run app.py &>/dev/null&"
      ]
    },
    {
      "cell_type": "code",
      "source": [
        "!pip install fuzzywuzzy[speedup]"
      ],
      "metadata": {
        "id": "2eQB3UjUI036"
      },
      "execution_count": null,
      "outputs": []
    },
    {
      "cell_type": "code",
      "execution_count": null,
      "metadata": {
        "id": "8Js9aaHjLHTA"
      },
      "outputs": [],
      "source": [
        "from pyngrok import ngrok"
      ]
    },
    {
      "cell_type": "code",
      "execution_count": null,
      "metadata": {
        "colab": {
          "base_uri": "https://localhost:8080/"
        },
        "id": "Vrnyy1AZUJfl",
        "outputId": "d4131a00-9b5c-48d2-85b8-b9e43dbd5fc6"
      },
      "outputs": [
        {
          "output_type": "stream",
          "name": "stdout",
          "text": [
            "Overwriting app.py\n"
          ]
        }
      ],
      "source": [
        "%%writefile app.py\n",
        "\n",
        "from fuzzywuzzy import process\n",
        "import streamlit as st\n",
        "import re\n",
        "import json\n",
        "import requests\n",
        "\n",
        "def main():\n",
        "\n",
        "  def getPaises():\n",
        "    response = requests.get('https://guhdalla.github.io/paises.json')\n",
        "    return response.json()['PAISES']\n",
        "      \n",
        "  def getUrlByPais(paisField):\n",
        "    paises = getPaises();\n",
        "    for pais in paises:\n",
        "      if pais[\"PAIS\"].upper() == paisField.upper():\n",
        "        return pais[\"URL\"]\n",
        "\n",
        "  def containPassaporteInUrl(url, sigla, passaporte):\n",
        "    response = requests.get(url)\n",
        "    json = response.json()[sigla.lower()]\n",
        "    for i in json:\n",
        "      if int(i[sigla.lower()]) == int(passaporte):\n",
        "        return True\n",
        "      else:\n",
        "        return False\n",
        "\n",
        "  def containNameInInterpol(nome):\n",
        "    response = requests.get(\"https://cspinheiro.github.io/interpol.json\")\n",
        "    json = response.json()[\"interpol\"]\n",
        "    nomes = []\n",
        "    for i in json:\n",
        "      nomes.append(i[\"interpol\"])\n",
        "\n",
        "    result = process.extract(nome, nomes)\n",
        "    print(result)\n",
        "    for text in result: \n",
        "        if text[1] > 86:\n",
        "          return True\n",
        "        else:\n",
        "          return False\n",
        "    \n",
        "\n",
        "  def service(passaporte, nome):\n",
        "    pais = re.sub(\"[0-9]{9}\", \"\",passaporte)\n",
        "    passaporte = re.sub(\"[a-zA-Z]{3}\", \"\",passaporte)\n",
        "\n",
        "    url = getUrlByPais(pais);\n",
        "    if url is None:\n",
        "      return st.error(\"Pais inexistente!\")\n",
        "    isPassaporte = containPassaporteInUrl(url, pais, passaporte)\n",
        "    isWanted = containNameInInterpol(nome)\n",
        "    print(\"Pass\", isPassaporte)\n",
        "    print(\"Wanted\", isWanted)\n",
        "    if isPassaporte and not isWanted:\n",
        "      st.success(\"Permitido.\")\n",
        "    else:\n",
        "      if isWanted:\n",
        "        st.error(\"Pessoa sujeito a investigação!\")\n",
        "      elif not isPassaporte:\n",
        "        st.error(\"Passaporte inexistente!\")\n",
        "      else:\n",
        "        st.error(\"Nao permitido!\")\n",
        "\n",
        "\n",
        "  def verifyNome(nome):\n",
        "    if nome is \"\":\n",
        "      return False\n",
        "    match = re.search(\"[0-9]\", nome)\n",
        "    if not match:\n",
        "      return True\n",
        "    else:\n",
        "      return False\n",
        "\n",
        "  def verifyPassaporte(passaporte):\n",
        "    match = re.search(\"([a-zA-Z]{3})([0-9]{9})\", passaporte)\n",
        "    if match:\n",
        "      return True\n",
        "    else:\n",
        "      return False\n",
        "\n",
        "  with st.form(\"form_migracao\"):\n",
        "    st.write(\"MIGRACAO\")\n",
        "    passaporte = st.text_input('Passaporte')\n",
        "    nome = st.text_input('Nome')\n",
        "\n",
        "    submitted = st.form_submit_button(\"VERIFICAR\")\n",
        "    if submitted:\n",
        "      if verifyPassaporte(passaporte) and verifyNome(nome):\n",
        "        service(passaporte, nome)\n",
        "      else:\n",
        "        st.write(\"Passaporte ou nome foram digitados incorretamente! Tente Novamente.\")\n",
        "\n",
        "if __name__=='__main__': \n",
        "    main()  "
      ]
    },
    {
      "cell_type": "code",
      "execution_count": null,
      "metadata": {
        "colab": {
          "base_uri": "https://localhost:8080/"
        },
        "id": "uh5Fx874LLi8",
        "outputId": "5524f565-c9b1-423b-fc19-3a4f9a9b982e"
      },
      "outputs": [
        {
          "output_type": "stream",
          "name": "stdout",
          "text": [
            "2022-04-28 17:34:23.561 INFO    numexpr.utils: NumExpr defaulting to 2 threads.\n",
            "\u001b[K\u001b[?25hnpx: installed 22 in 2.45s\n",
            "your url is: https://rotten-quail-57.loca.lt\n",
            "\u001b[0m\n",
            "\u001b[34m\u001b[1m  You can now view your Streamlit app in your browser.\u001b[0m\n",
            "\u001b[0m\n",
            "\u001b[34m  Network URL: \u001b[0m\u001b[1mhttp://172.28.0.2:8501\u001b[0m\n",
            "\u001b[34m  External URL: \u001b[0m\u001b[1mhttp://34.86.150.15:8501\u001b[0m\n",
            "\u001b[0m\n",
            "[('Pedro da Silva ', 60), ('Luzia dos Anjos ', 60), ('Ricardo da Silva Leão', 60), ('Bruna de Villas Boas ', 60), ('Pietra da Silva Rebouças', 60)]\n",
            "Pass True\n",
            "Wanted False\n",
            "[('Bruno de Oliveira Ribeiro', 86), ('Bruna de Villas Boas ', 45), ('Keila Anjos ', 43), ('Pedro da Silva ', 40), ('Pedro da Silva ', 40)]\n",
            "Pass True\n",
            "Wanted False\n",
            "[('Bruno de Oliveira Ribeiro', 86), ('Fernando de Oliveira Ribeiro', 86), ('Marlene de Oliveira Ribeiro', 86), ('João de Oliveira Ribeiro', 86), ('Marianna de Oliveira Ribeiro', 86)]\n",
            "Pass True\n",
            "Wanted False\n",
            "[('Bruno de Oliveira Ribeiro', 86), ('Ricardo da Silva Leão', 53), ('Pedro dos Anjos ', 50), ('Fernando dos Santos Pereira', 49), ('Pedro dos Santos Pereira', 49)]\n",
            "Pass True\n",
            "Wanted False\n",
            "[('Bruno de Oliveira Ribeiro', 100), ('João de Oliveira Ribeiro', 88), ('Fernando de Oliveira Ribeiro', 87), ('Fábio Oliveira ', 86), ('Larissa Oliveira ', 86)]\n",
            "Pass True\n",
            "Wanted True\n",
            "[('Bruno de Oliveira Ribeiro', 100), ('João de Oliveira Ribeiro', 88), ('Fernando de Oliveira Ribeiro', 87), ('Fábio Oliveira ', 86), ('Larissa Oliveira ', 86)]\n",
            "Pass False\n",
            "Wanted True\n",
            "[('Bruno de Oliveira Ribeiro', 86), ('Fernando de Oliveira Ribeiro', 86), ('Patrícia da Silva Ribeiro', 86), ('Marlene de Oliveira Ribeiro', 86), ('Maurício da Silva Ribeiro', 86)]\n",
            "Pass False\n",
            "Wanted False\n",
            "[('Bruno de Oliveira Ribeiro', 86), ('Fernando de Oliveira Ribeiro', 86), ('Patrícia da Silva Ribeiro', 86), ('Marlene de Oliveira Ribeiro', 86), ('Maurício da Silva Ribeiro', 86)]\n",
            "Pass True\n",
            "Wanted False\n",
            "[('Isabelle da Silva ', 55), ('Luzivan de Oliveira ', 52), ('Patrícia da Silva Ribeiro', 52), ('Nathan da Silva ', 52), ('Ana da Silva Ribeiro', 52)]\n",
            "Pass True\n",
            "Wanted False\n",
            "\u001b[34m  Stopping...\u001b[0m\n",
            "^C\n"
          ]
        }
      ],
      "source": [
        "!streamlit run app.py & npx localtunnel --port 8501"
      ]
    }
  ],
  "metadata": {
    "colab": {
      "collapsed_sections": [],
      "name": "IdentificarPassaporte.ipynb",
      "provenance": [],
      "authorship_tag": "ABX9TyOGEKeJcdCWP4hDM9mUnFOU",
      "include_colab_link": true
    },
    "kernelspec": {
      "display_name": "Python 3",
      "name": "python3"
    },
    "language_info": {
      "name": "python"
    }
  },
  "nbformat": 4,
  "nbformat_minor": 0
}